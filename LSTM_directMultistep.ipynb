{
 "cells": [
  {
   "cell_type": "code",
   "execution_count": 1,
   "metadata": {},
   "outputs": [],
   "source": [
    "import numpy as np\n",
    "import pandas as pd\n",
    "import seaborn as sns\n",
    "from keras.models import Sequential\n",
    "from keras.layers import LSTM\n",
    "from keras.layers import Dense, Dropout\n",
    "from keras.callbacks import EarlyStopping, ReduceLROnPlateau, ModelCheckpoint, TensorBoard\n",
    "from matplotlib import pyplot as plt\n",
    "from sklearn.preprocessing import MinMaxScaler\n",
    "from sklearn.metrics import r2_score, mean_squared_error, mean_absolute_error\n",
    "from statsmodels.tsa.ar_model import AutoReg\n",
    "# Set seed for replayability\n",
    "from numpy.random import seed \n",
    "seed(1)\n",
    "import tensorflow as tf\n",
    "tf.random.set_seed(2)\n",
    "pd.options.mode.chained_assignment = None  # default='warn'\n"
   ]
  },
  {
   "cell_type": "markdown",
   "metadata": {},
   "source": [
    "# <span style='font-family:\"Times New Roman\"'> <span styel=''>Data pre-processing"
   ]
  },
  {
   "cell_type": "code",
   "execution_count": 2,
   "metadata": {},
   "outputs": [
    {
     "data": {
      "text/html": [
       "<div>\n",
       "<style scoped>\n",
       "    .dataframe tbody tr th:only-of-type {\n",
       "        vertical-align: middle;\n",
       "    }\n",
       "\n",
       "    .dataframe tbody tr th {\n",
       "        vertical-align: top;\n",
       "    }\n",
       "\n",
       "    .dataframe thead th {\n",
       "        text-align: right;\n",
       "    }\n",
       "</style>\n",
       "<table border=\"1\" class=\"dataframe\">\n",
       "  <thead>\n",
       "    <tr style=\"text-align: right;\">\n",
       "      <th></th>\n",
       "      <th>date</th>\n",
       "      <th>newCasesByPublishDate</th>\n",
       "      <th>newDeaths28DaysByPublishDate</th>\n",
       "      <th>newAdmissions</th>\n",
       "      <th>hospitalCases</th>\n",
       "      <th>covidOccupiedMVBeds</th>\n",
       "      <th>London</th>\n",
       "    </tr>\n",
       "  </thead>\n",
       "  <tbody>\n",
       "    <tr>\n",
       "      <th>0</th>\n",
       "      <td>2020-04-21</td>\n",
       "      <td>4301</td>\n",
       "      <td>1224</td>\n",
       "      <td>1713</td>\n",
       "      <td>19139</td>\n",
       "      <td>3036</td>\n",
       "      <td>0.09</td>\n",
       "    </tr>\n",
       "    <tr>\n",
       "      <th>1</th>\n",
       "      <td>2020-04-22</td>\n",
       "      <td>4451</td>\n",
       "      <td>847</td>\n",
       "      <td>1527</td>\n",
       "      <td>18533</td>\n",
       "      <td>2964</td>\n",
       "      <td>0.09</td>\n",
       "    </tr>\n",
       "    <tr>\n",
       "      <th>2</th>\n",
       "      <td>2020-04-23</td>\n",
       "      <td>4583</td>\n",
       "      <td>682</td>\n",
       "      <td>1513</td>\n",
       "      <td>17867</td>\n",
       "      <td>2867</td>\n",
       "      <td>0.09</td>\n",
       "    </tr>\n",
       "    <tr>\n",
       "      <th>3</th>\n",
       "      <td>2020-04-24</td>\n",
       "      <td>5386</td>\n",
       "      <td>1010</td>\n",
       "      <td>1525</td>\n",
       "      <td>17063</td>\n",
       "      <td>2703</td>\n",
       "      <td>0.09</td>\n",
       "    </tr>\n",
       "    <tr>\n",
       "      <th>4</th>\n",
       "      <td>2020-04-25</td>\n",
       "      <td>4913</td>\n",
       "      <td>815</td>\n",
       "      <td>1255</td>\n",
       "      <td>16604</td>\n",
       "      <td>2702</td>\n",
       "      <td>0.08</td>\n",
       "    </tr>\n",
       "    <tr>\n",
       "      <th>...</th>\n",
       "      <td>...</td>\n",
       "      <td>...</td>\n",
       "      <td>...</td>\n",
       "      <td>...</td>\n",
       "      <td>...</td>\n",
       "      <td>...</td>\n",
       "      <td>...</td>\n",
       "    </tr>\n",
       "    <tr>\n",
       "      <th>291</th>\n",
       "      <td>2021-02-06</td>\n",
       "      <td>18262</td>\n",
       "      <td>828</td>\n",
       "      <td>1880</td>\n",
       "      <td>26881</td>\n",
       "      <td>3373</td>\n",
       "      <td>0.21</td>\n",
       "    </tr>\n",
       "    <tr>\n",
       "      <th>292</th>\n",
       "      <td>2021-02-07</td>\n",
       "      <td>15845</td>\n",
       "      <td>373</td>\n",
       "      <td>1846</td>\n",
       "      <td>26767</td>\n",
       "      <td>3302</td>\n",
       "      <td>0.21</td>\n",
       "    </tr>\n",
       "    <tr>\n",
       "      <th>293</th>\n",
       "      <td>2021-02-08</td>\n",
       "      <td>14104</td>\n",
       "      <td>333</td>\n",
       "      <td>1909</td>\n",
       "      <td>26706</td>\n",
       "      <td>3230</td>\n",
       "      <td>0.24</td>\n",
       "    </tr>\n",
       "    <tr>\n",
       "      <th>294</th>\n",
       "      <td>2021-02-09</td>\n",
       "      <td>12364</td>\n",
       "      <td>1052</td>\n",
       "      <td>1743</td>\n",
       "      <td>25643</td>\n",
       "      <td>3164</td>\n",
       "      <td>0.22</td>\n",
       "    </tr>\n",
       "    <tr>\n",
       "      <th>295</th>\n",
       "      <td>2021-02-10</td>\n",
       "      <td>13013</td>\n",
       "      <td>1001</td>\n",
       "      <td>1715</td>\n",
       "      <td>24352</td>\n",
       "      <td>3132</td>\n",
       "      <td>0.22</td>\n",
       "    </tr>\n",
       "  </tbody>\n",
       "</table>\n",
       "<p>296 rows × 7 columns</p>\n",
       "</div>"
      ],
      "text/plain": [
       "           date  newCasesByPublishDate  newDeaths28DaysByPublishDate  \\\n",
       "0    2020-04-21                   4301                          1224   \n",
       "1    2020-04-22                   4451                           847   \n",
       "2    2020-04-23                   4583                           682   \n",
       "3    2020-04-24                   5386                          1010   \n",
       "4    2020-04-25                   4913                           815   \n",
       "..          ...                    ...                           ...   \n",
       "291  2021-02-06                  18262                           828   \n",
       "292  2021-02-07                  15845                           373   \n",
       "293  2021-02-08                  14104                           333   \n",
       "294  2021-02-09                  12364                          1052   \n",
       "295  2021-02-10                  13013                          1001   \n",
       "\n",
       "     newAdmissions  hospitalCases  covidOccupiedMVBeds  London  \n",
       "0             1713          19139                 3036    0.09  \n",
       "1             1527          18533                 2964    0.09  \n",
       "2             1513          17867                 2867    0.09  \n",
       "3             1525          17063                 2703    0.09  \n",
       "4             1255          16604                 2702    0.08  \n",
       "..             ...            ...                  ...     ...  \n",
       "291           1880          26881                 3373    0.21  \n",
       "292           1846          26767                 3302    0.21  \n",
       "293           1909          26706                 3230    0.24  \n",
       "294           1743          25643                 3164    0.22  \n",
       "295           1715          24352                 3132    0.22  \n",
       "\n",
       "[296 rows x 7 columns]"
      ]
     },
     "execution_count": 2,
     "metadata": {},
     "output_type": "execute_result"
    }
   ],
   "source": [
    "# Read data\n",
    "df = pd.read_csv('NewCases_Data/export_dataframe.csv')\n",
    "df\n"
   ]
  },
  {
   "cell_type": "code",
   "execution_count": 3,
   "metadata": {},
   "outputs": [
    {
     "data": {
      "text/html": [
       "<div>\n",
       "<style scoped>\n",
       "    .dataframe tbody tr th:only-of-type {\n",
       "        vertical-align: middle;\n",
       "    }\n",
       "\n",
       "    .dataframe tbody tr th {\n",
       "        vertical-align: top;\n",
       "    }\n",
       "\n",
       "    .dataframe thead th {\n",
       "        text-align: right;\n",
       "    }\n",
       "</style>\n",
       "<table border=\"1\" class=\"dataframe\">\n",
       "  <thead>\n",
       "    <tr style=\"text-align: right;\">\n",
       "      <th></th>\n",
       "      <th>date</th>\n",
       "      <th>newCasesByPublishDate</th>\n",
       "      <th>newDeaths28DaysByPublishDate</th>\n",
       "      <th>newAdmissions</th>\n",
       "      <th>hospitalCases</th>\n",
       "      <th>covidOccupiedMVBeds</th>\n",
       "      <th>London</th>\n",
       "    </tr>\n",
       "  </thead>\n",
       "  <tbody>\n",
       "    <tr>\n",
       "      <th>0</th>\n",
       "      <td>2020-04-21</td>\n",
       "      <td>4301</td>\n",
       "      <td>1224</td>\n",
       "      <td>1713</td>\n",
       "      <td>19139</td>\n",
       "      <td>3036</td>\n",
       "      <td>0.09</td>\n",
       "    </tr>\n",
       "    <tr>\n",
       "      <th>1</th>\n",
       "      <td>2020-04-22</td>\n",
       "      <td>4451</td>\n",
       "      <td>847</td>\n",
       "      <td>1527</td>\n",
       "      <td>18533</td>\n",
       "      <td>2964</td>\n",
       "      <td>0.09</td>\n",
       "    </tr>\n",
       "    <tr>\n",
       "      <th>2</th>\n",
       "      <td>2020-04-23</td>\n",
       "      <td>4583</td>\n",
       "      <td>682</td>\n",
       "      <td>1513</td>\n",
       "      <td>17867</td>\n",
       "      <td>2867</td>\n",
       "      <td>0.09</td>\n",
       "    </tr>\n",
       "    <tr>\n",
       "      <th>3</th>\n",
       "      <td>2020-04-24</td>\n",
       "      <td>5386</td>\n",
       "      <td>1010</td>\n",
       "      <td>1525</td>\n",
       "      <td>17063</td>\n",
       "      <td>2703</td>\n",
       "      <td>0.09</td>\n",
       "    </tr>\n",
       "    <tr>\n",
       "      <th>4</th>\n",
       "      <td>2020-04-25</td>\n",
       "      <td>4913</td>\n",
       "      <td>815</td>\n",
       "      <td>1255</td>\n",
       "      <td>16604</td>\n",
       "      <td>2702</td>\n",
       "      <td>0.08</td>\n",
       "    </tr>\n",
       "    <tr>\n",
       "      <th>...</th>\n",
       "      <td>...</td>\n",
       "      <td>...</td>\n",
       "      <td>...</td>\n",
       "      <td>...</td>\n",
       "      <td>...</td>\n",
       "      <td>...</td>\n",
       "      <td>...</td>\n",
       "    </tr>\n",
       "    <tr>\n",
       "      <th>291</th>\n",
       "      <td>2021-02-06</td>\n",
       "      <td>18262</td>\n",
       "      <td>828</td>\n",
       "      <td>1880</td>\n",
       "      <td>26881</td>\n",
       "      <td>3373</td>\n",
       "      <td>0.21</td>\n",
       "    </tr>\n",
       "    <tr>\n",
       "      <th>292</th>\n",
       "      <td>2021-02-07</td>\n",
       "      <td>15845</td>\n",
       "      <td>373</td>\n",
       "      <td>1846</td>\n",
       "      <td>26767</td>\n",
       "      <td>3302</td>\n",
       "      <td>0.21</td>\n",
       "    </tr>\n",
       "    <tr>\n",
       "      <th>293</th>\n",
       "      <td>2021-02-08</td>\n",
       "      <td>14104</td>\n",
       "      <td>333</td>\n",
       "      <td>1909</td>\n",
       "      <td>26706</td>\n",
       "      <td>3230</td>\n",
       "      <td>0.24</td>\n",
       "    </tr>\n",
       "    <tr>\n",
       "      <th>294</th>\n",
       "      <td>2021-02-09</td>\n",
       "      <td>12364</td>\n",
       "      <td>1052</td>\n",
       "      <td>1743</td>\n",
       "      <td>25643</td>\n",
       "      <td>3164</td>\n",
       "      <td>0.22</td>\n",
       "    </tr>\n",
       "    <tr>\n",
       "      <th>295</th>\n",
       "      <td>2021-02-10</td>\n",
       "      <td>13013</td>\n",
       "      <td>1001</td>\n",
       "      <td>1715</td>\n",
       "      <td>24352</td>\n",
       "      <td>3132</td>\n",
       "      <td>0.22</td>\n",
       "    </tr>\n",
       "  </tbody>\n",
       "</table>\n",
       "<p>296 rows × 7 columns</p>\n",
       "</div>"
      ],
      "text/plain": [
       "           date  newCasesByPublishDate  newDeaths28DaysByPublishDate  \\\n",
       "0    2020-04-21                   4301                          1224   \n",
       "1    2020-04-22                   4451                           847   \n",
       "2    2020-04-23                   4583                           682   \n",
       "3    2020-04-24                   5386                          1010   \n",
       "4    2020-04-25                   4913                           815   \n",
       "..          ...                    ...                           ...   \n",
       "291  2021-02-06                  18262                           828   \n",
       "292  2021-02-07                  15845                           373   \n",
       "293  2021-02-08                  14104                           333   \n",
       "294  2021-02-09                  12364                          1052   \n",
       "295  2021-02-10                  13013                          1001   \n",
       "\n",
       "     newAdmissions  hospitalCases  covidOccupiedMVBeds  London  \n",
       "0             1713          19139                 3036    0.09  \n",
       "1             1527          18533                 2964    0.09  \n",
       "2             1513          17867                 2867    0.09  \n",
       "3             1525          17063                 2703    0.09  \n",
       "4             1255          16604                 2702    0.08  \n",
       "..             ...            ...                  ...     ...  \n",
       "291           1880          26881                 3373    0.21  \n",
       "292           1846          26767                 3302    0.21  \n",
       "293           1909          26706                 3230    0.24  \n",
       "294           1743          25643                 3164    0.22  \n",
       "295           1715          24352                 3132    0.22  \n",
       "\n",
       "[296 rows x 7 columns]"
      ]
     },
     "execution_count": 3,
     "metadata": {},
     "output_type": "execute_result"
    }
   ],
   "source": [
    "df_data = df[['date','newCasesByPublishDate','newDeaths28DaysByPublishDate'\n",
    "             ,'newAdmissions','hospitalCases','covidOccupiedMVBeds','London']]\n",
    "df_data\n"
   ]
  },
  {
   "cell_type": "code",
   "execution_count": 4,
   "metadata": {},
   "outputs": [
    {
     "name": "stdout",
     "output_type": "stream",
     "text": [
      "train set: (222, 6)\n",
      "test set: (74, 6)\n"
     ]
    }
   ],
   "source": [
    "# Separate dates for future plotting\n",
    "all_dates = pd.to_datetime(df_data['date'])\n",
    "\n",
    "# Extract features\n",
    "n_features = 6  \n",
    "cols = list(df_data)[1:n_features + 1]\n",
    "data = df_data[cols].astype(float)\n",
    "\n",
    "# Split into the train set and the test set\n",
    "split = 0.75\n",
    "x = int(data.shape[0] * split)\n",
    "train_set, test_set = data[:x], data[x:]\n",
    "print(\"train set:\", train_set.shape)\n",
    "print(\"test set:\", test_set.shape)\n"
   ]
  },
  {
   "cell_type": "code",
   "execution_count": 5,
   "metadata": {},
   "outputs": [
    {
     "name": "stdout",
     "output_type": "stream",
     "text": [
      "scaled train set: (222, 6)\n",
      "scaled train set type: <class 'numpy.ndarray'>\n"
     ]
    }
   ],
   "source": [
    "# Number of days predicted into the future\n",
    "n_future = 1\n",
    "\n",
    "# Number of past days used as the input\n",
    "n_past = 3\n",
    "\n",
    "# Normalize the train set\n",
    "scaler = MinMaxScaler(feature_range=(-1, 1))\n",
    "scaler = scaler.fit(train_set)\n",
    "train_data_scaled = scaler.transform(train_set)\n",
    "\n",
    "# Inverse scaling function\n",
    "def inverse_scaling(data):\n",
    "    data_copies = np.repeat(data, train_set.shape[1], axis=-1)\n",
    "    data = scaler.inverse_transform(data_copies)[:, 0]\n",
    "    return data\n",
    "\n",
    "print(\"scaled train set:\", train_data_scaled.shape)\n",
    "print(\"scaled train set type:\", type(train_data_scaled))\n"
   ]
  },
  {
   "cell_type": "code",
   "execution_count": 6,
   "metadata": {},
   "outputs": [
    {
     "name": "stdout",
     "output_type": "stream",
     "text": [
      "train x: (219, 3, 6)\n",
      "train y: (219, 1)\n"
     ]
    }
   ],
   "source": [
    "# Reshape input and output\n",
    "train_X, train_Y = [], []\n",
    "\n",
    "for i in range(n_past, train_data_scaled.shape[0] - n_future + 1):\n",
    "    train_X.append(train_data_scaled[i - n_past:i, 0:train_data_scaled.shape[1]])\n",
    "    train_Y.append(train_data_scaled[i + n_future - 1:i + n_future, 0])\n",
    "\n",
    "train_x, train_y = np.array(train_X), np.array(train_Y)\n",
    "\n",
    "print(\"train x:\", train_x.shape)\n",
    "print(\"train y:\", train_y.shape)\n"
   ]
  },
  {
   "cell_type": "markdown",
   "metadata": {},
   "source": [
    "# <span style='font-family:\"Times New Roman\"'> <span styel=''>Model training"
   ]
  },
  {
   "cell_type": "code",
   "execution_count": 7,
   "metadata": {},
   "outputs": [
    {
     "name": "stdout",
     "output_type": "stream",
     "text": [
      "Epoch 1/45\n",
      "66/66 [==============================] - 1s 9ms/step - loss: 0.3255 - val_loss: 0.2114\n",
      "Epoch 2/45\n",
      "66/66 [==============================] - 0s 4ms/step - loss: 0.0407 - val_loss: 0.1037\n",
      "Epoch 3/45\n",
      "66/66 [==============================] - 0s 3ms/step - loss: 0.0293 - val_loss: 0.0701\n",
      "Epoch 4/45\n",
      "66/66 [==============================] - 0s 3ms/step - loss: 0.0253 - val_loss: 0.0722\n",
      "Epoch 5/45\n",
      "66/66 [==============================] - 0s 3ms/step - loss: 0.0276 - val_loss: 0.0685\n",
      "Epoch 6/45\n",
      "66/66 [==============================] - 0s 3ms/step - loss: 0.0256 - val_loss: 0.0553\n",
      "Epoch 7/45\n",
      "66/66 [==============================] - 0s 3ms/step - loss: 0.0226 - val_loss: 0.0535\n",
      "Epoch 8/45\n",
      "66/66 [==============================] - 0s 3ms/step - loss: 0.0207 - val_loss: 0.0486\n",
      "Epoch 9/45\n",
      "66/66 [==============================] - 0s 3ms/step - loss: 0.0206 - val_loss: 0.0534\n",
      "Epoch 10/45\n",
      "66/66 [==============================] - 0s 3ms/step - loss: 0.0221 - val_loss: 0.0525\n",
      "Epoch 11/45\n",
      "66/66 [==============================] - 0s 3ms/step - loss: 0.0193 - val_loss: 0.0488\n",
      "Epoch 12/45\n",
      "66/66 [==============================] - 0s 3ms/step - loss: 0.0225 - val_loss: 0.0463\n",
      "Epoch 13/45\n",
      "66/66 [==============================] - 0s 3ms/step - loss: 0.0213 - val_loss: 0.0471\n",
      "Epoch 14/45\n",
      "66/66 [==============================] - 0s 4ms/step - loss: 0.0221 - val_loss: 0.0484\n",
      "Epoch 15/45\n",
      "66/66 [==============================] - 0s 3ms/step - loss: 0.0241 - val_loss: 0.0475\n",
      "Epoch 16/45\n",
      "66/66 [==============================] - 0s 3ms/step - loss: 0.0210 - val_loss: 0.0503\n",
      "Epoch 17/45\n",
      "66/66 [==============================] - 0s 3ms/step - loss: 0.0184 - val_loss: 0.0520\n",
      "Epoch 18/45\n",
      "66/66 [==============================] - 0s 3ms/step - loss: 0.0200 - val_loss: 0.0448\n",
      "Epoch 19/45\n",
      "66/66 [==============================] - 0s 3ms/step - loss: 0.0178 - val_loss: 0.0607\n",
      "Epoch 20/45\n",
      "66/66 [==============================] - 0s 3ms/step - loss: 0.0182 - val_loss: 0.0457\n",
      "Epoch 21/45\n",
      "66/66 [==============================] - 0s 3ms/step - loss: 0.0209 - val_loss: 0.0454\n",
      "Epoch 22/45\n",
      "66/66 [==============================] - 0s 3ms/step - loss: 0.0185 - val_loss: 0.0653\n",
      "Epoch 23/45\n",
      "66/66 [==============================] - 0s 3ms/step - loss: 0.0217 - val_loss: 0.0436\n",
      "Epoch 24/45\n",
      "66/66 [==============================] - 0s 3ms/step - loss: 0.0169 - val_loss: 0.0471\n",
      "Epoch 25/45\n",
      "66/66 [==============================] - 0s 3ms/step - loss: 0.0168 - val_loss: 0.0427\n",
      "Epoch 26/45\n",
      "66/66 [==============================] - 0s 3ms/step - loss: 0.0179 - val_loss: 0.0442\n",
      "Epoch 27/45\n",
      "66/66 [==============================] - 0s 3ms/step - loss: 0.0185 - val_loss: 0.0422\n",
      "Epoch 28/45\n",
      "66/66 [==============================] - 0s 3ms/step - loss: 0.0155 - val_loss: 0.0418\n",
      "Epoch 29/45\n",
      "66/66 [==============================] - 0s 3ms/step - loss: 0.0177 - val_loss: 0.0503\n",
      "Epoch 30/45\n",
      "66/66 [==============================] - 0s 3ms/step - loss: 0.0160 - val_loss: 0.0416\n",
      "Epoch 31/45\n",
      "66/66 [==============================] - 0s 3ms/step - loss: 0.0166 - val_loss: 0.0394\n",
      "Epoch 32/45\n",
      "66/66 [==============================] - 0s 3ms/step - loss: 0.0164 - val_loss: 0.0439\n",
      "Epoch 33/45\n",
      "66/66 [==============================] - 0s 3ms/step - loss: 0.0156 - val_loss: 0.0388\n",
      "Epoch 34/45\n",
      "66/66 [==============================] - 0s 3ms/step - loss: 0.0166 - val_loss: 0.0391\n",
      "Epoch 35/45\n",
      "66/66 [==============================] - 0s 3ms/step - loss: 0.0136 - val_loss: 0.0424\n",
      "Epoch 36/45\n",
      "66/66 [==============================] - 0s 3ms/step - loss: 0.0174 - val_loss: 0.0387\n",
      "Epoch 37/45\n",
      "66/66 [==============================] - 0s 3ms/step - loss: 0.0159 - val_loss: 0.0407\n",
      "Epoch 38/45\n",
      "66/66 [==============================] - 0s 3ms/step - loss: 0.0138 - val_loss: 0.0366\n",
      "Epoch 39/45\n",
      "66/66 [==============================] - 0s 3ms/step - loss: 0.0141 - val_loss: 0.0368\n",
      "Epoch 40/45\n",
      "66/66 [==============================] - 0s 3ms/step - loss: 0.0159 - val_loss: 0.0409\n",
      "Epoch 41/45\n",
      "66/66 [==============================] - 0s 3ms/step - loss: 0.0147 - val_loss: 0.0369\n",
      "Epoch 42/45\n",
      "66/66 [==============================] - 0s 3ms/step - loss: 0.0140 - val_loss: 0.0372\n",
      "Epoch 43/45\n",
      "66/66 [==============================] - 0s 4ms/step - loss: 0.0159 - val_loss: 0.0353\n",
      "Epoch 44/45\n",
      "66/66 [==============================] - 0s 3ms/step - loss: 0.0133 - val_loss: 0.0375\n",
      "Epoch 45/45\n",
      "66/66 [==============================] - 0s 4ms/step - loss: 0.0132 - val_loss: 0.0400\n"
     ]
    }
   ],
   "source": [
    "# LSTM model\n",
    "model = Sequential()\n",
    "model.add(LSTM(64, activation='relu', input_shape=(train_x.shape[1], train_x.shape[2]), return_sequences=True))\n",
    "model.add(LSTM(32, activation='relu', return_sequences=False))\n",
    "model.add(Dropout(0.2))\n",
    "model.add(Dense(train_y.shape[1]))\n",
    "\n",
    "model.compile(optimizer='adam', loss='mse')\n",
    "\n",
    "# Training\n",
    "reduce_lr = ReduceLROnPlateau(monitor='val_loss', patience=10, mode='auto')\n",
    "history = model.fit(train_x, train_y, epochs=45, batch_size=3, validation_split=0.1, verbose=1, callbacks=[reduce_lr])\n"
   ]
  },
  {
   "cell_type": "code",
   "execution_count": 8,
   "metadata": {},
   "outputs": [
    {
     "data": {
      "image/png": "[encoded data removed]",
      "text/plain": [
       "<IPython.core.display.Image object>"
      ]
     },
     "execution_count": 8,
     "metadata": {},
     "output_type": "execute_result"
    }
   ],
   "source": [
    "# Plot model\n",
    "import os\n",
    "\n",
    "os.environ[\"PATH\"] += os.pathsep + 'd:\\anaconda3\\lib\\site-packages'\n",
    "from keras.utils.vis_utils import plot_model\n",
    "\n",
    "# plot_model(model, to_file='lstm_model.svg', dpi=None, show_shapes=False, show_layer_names=True)\n",
    "plot_model(model, to_file='lstm_model.png', show_shapes=False, show_layer_names=True)\n"
   ]
  },
  {
   "cell_type": "markdown",
   "metadata": {},
   "source": [
    "# <span style='font-family:\"Times New Roman\"'> <span styel=''>Model validation"
   ]
  },
  {
   "cell_type": "code",
   "execution_count": 9,
   "metadata": {},
   "outputs": [
    {
     "data": {
      "text/plain": [
       "Text(0.5, 1.0, 'model train vs validation loss')"
      ]
     },
     "execution_count": 9,
     "metadata": {},
     "output_type": "execute_result"
    },
    {
     "data": {
      "image/png": "[encoded data removed]",
      "text/plain": [
       "<Figure size 432x288 with 1 Axes>"
      ]
     },
     "metadata": {
      "needs_background": "light"
     },
     "output_type": "display_data"
    }
   ],
   "source": [
    "# Plot model train vs validation loss\n",
    "sns.lineplot(data=history.history['loss'])\n",
    "sns.lineplot(data=history.history['val_loss'])\n",
    "plt.legend(labels=['train', 'validation'])\n",
    "plt.ylabel('loss')\n",
    "plt.xlabel('epoch')\n",
    "plt.title(\"model train vs validation loss\")"
   ]
  },
  {
   "cell_type": "code",
   "execution_count": 10,
   "metadata": {},
   "outputs": [
    {
     "name": "stdout",
     "output_type": "stream",
     "text": [
      "1/1 [==============================] - 0s 3ms/step - loss: 0.0400\n",
      "original validation RMSE is 3311.8674038555982\n",
      "persistence validation RMSE is 3607.3862349195297\n",
      "autoregression validation RMSE is 3081.9360572136598\n"
     ]
    }
   ],
   "source": [
    "# Validation set\n",
    "val_x, val_y = train_x[int(-0.1 * len(train_x)) - 1:], train_y[int(-0.1 * len(train_x)) - 1:]\n",
    "results = model.evaluate(val_x, val_y)\n",
    "p_val_y = model.predict(val_x)\n",
    "val_y = inverse_scaling(val_y)\n",
    "p_val_y = inverse_scaling(p_val_y)\n",
    "\n",
    "# Persistence error correction on the validation set\n",
    "resid = [val_y[i] - p_val_y[i] for i in range(len(p_val_y))]\n",
    "persistence_predictions = []\n",
    "for i in range(n_future):\n",
    "    persistence_predictions.append(p_val_y[i])\n",
    "for i in range(len(p_val_y) - n_future):\n",
    "    correct_y = p_val_y[i + n_future] + resid[i]\n",
    "    persistence_predictions.append(correct_y)\n",
    "\n",
    "# Autoregression error correction on the validation set\n",
    "x, y = train_x[:int(-0.1 * len(train_x)) - 1], train_y[:int(-0.1 * len(train_x)) - 1]\n",
    "p_y = model.predict(x)\n",
    "y = inverse_scaling(y)\n",
    "p_y = inverse_scaling(p_y)\n",
    "\n",
    "# Residuals of the train set\n",
    "resid = [y[i] - p_y[i] for i in range(len(p_y))]\n",
    "window = 1\n",
    "model_reg = AutoReg(resid, lags=window, old_names=False)\n",
    "model_fit = model_reg.fit()\n",
    "coef = model_fit.params\n",
    "\n",
    "# Predict residual errors\n",
    "resid_history = resid[len(resid) - window - n_future + 1:]\n",
    "reg_predictions = []\n",
    "for t in range(len(val_y)):\n",
    "    error = val_y[t] - p_val_y[t]\n",
    "    length = len(resid_history)\n",
    "    lag_error = [resid_history[i] for i in range(length - window - n_future + 1, length - n_future + 1)]\n",
    "    pred_error = coef[0]\n",
    "    for d in range(window):\n",
    "        pred_error += coef[d + 1] * lag_error[window - d - 1]\n",
    "    correct_y = p_val_y[t] + pred_error\n",
    "    reg_predictions.append(correct_y)\n",
    "    resid_history.append(error)\n",
    "\n",
    "print(\"original validation RMSE is\", mean_squared_error(val_y, p_val_y, squared=False))\n",
    "print(\"persistence validation RMSE is\", mean_squared_error(val_y, persistence_predictions, squared=False))\n",
    "print(\"autoregression validation RMSE is\", mean_squared_error(val_y, reg_predictions, squared=False))\n"
   ]
  },
  {
   "cell_type": "code",
   "execution_count": 11,
   "metadata": {},
   "outputs": [
    {
     "data": {
      "text/plain": [
       "Text(0.5, 1.0, 'residual error correction')"
      ]
     },
     "execution_count": 11,
     "metadata": {},
     "output_type": "execute_result"
    },
    {
     "data": {
      "image/png": "[encoded data removed]",
      "text/plain": [
       "<Figure size 432x288 with 1 Axes>"
      ]
     },
     "metadata": {
      "needs_background": "light"
     },
     "output_type": "display_data"
    }
   ],
   "source": [
    "# Plot corrected validation performance\n",
    "sns.lineplot(data=val_y, linewidth = 4)\n",
    "sns.lineplot(data=p_val_y)\n",
    "sns.lineplot(data=reg_predictions)\n",
    "sns.lineplot(data=persistence_predictions)\n",
    "plt.legend(labels=['Actual cases', 'Original predictions','Autoregression model','Persistence model'])\n",
    "plt.title(\"residual error correction\")\n"
   ]
  },
  {
   "cell_type": "markdown",
   "metadata": {},
   "source": [
    "# <span style='font-family:\"Times New Roman\"'> <span styel=''>Model testing"
   ]
  },
  {
   "cell_type": "code",
   "execution_count": 12,
   "metadata": {},
   "outputs": [
    {
     "name": "stdout",
     "output_type": "stream",
     "text": [
      "test x: (71, 3, 6)\n",
      "test y: (71, 1)\n"
     ]
    }
   ],
   "source": [
    "# Reshape input and output\n",
    "test_data_scaled = scaler.transform(test_set)\n",
    "test_X, test_Y = [], []\n",
    "\n",
    "for i in range(n_past, test_data_scaled.shape[0] - n_future + 1):\n",
    "    test_X.append(test_data_scaled[i - n_past:i, 0:test_data_scaled.shape[1]])\n",
    "    test_Y.append(test_data_scaled[i + n_future - 1:i + n_future, 0])\n",
    "\n",
    "test_x, test_y = np.array(test_X), np.array(test_Y)\n",
    "\n",
    "print(\"test x:\", test_x.shape)\n",
    "print(\"test y:\", test_y.shape)\n"
   ]
  },
  {
   "cell_type": "code",
   "execution_count": 13,
   "metadata": {
    "scrolled": false
   },
   "outputs": [
    {
     "name": "stdout",
     "output_type": "stream",
     "text": [
      "3/3 [==============================] - 0s 1ms/step - loss: 0.1514\n"
     ]
    },
    {
     "data": {
      "image/png": "[encoded data removed]",
      "text/plain": [
       "<Figure size 432x288 with 1 Axes>"
      ]
     },
     "metadata": {
      "needs_background": "light"
     },
     "output_type": "display_data"
    }
   ],
   "source": [
    "results = model.evaluate(test_x, test_y)\n",
    "predict_y = model.predict(test_x)\n",
    "model_y = model.predict(train_x)\n",
    "\n",
    "model_y = inverse_scaling(model_y)\n",
    "predict_y = inverse_scaling(predict_y)\n",
    "test_y = inverse_scaling(test_y)\n",
    "train_y = inverse_scaling(train_y)\n",
    "\n",
    "# Model y for plotting\n",
    "train_dates = all_dates[n_past + n_future - 1:n_past + n_future - 1 + train_y.shape[0]]\n",
    "df_train = pd.DataFrame({'date': np.array(train_dates), 'newCasesByPublishDate': model_y})\n",
    "df_train['date'] = pd.to_datetime(df_train['date'])\n",
    "\n",
    "# Predict y for plotting\n",
    "test_dates = all_dates.tail(predict_y.shape[0])\n",
    "df_predict = pd.DataFrame({'date': np.array(test_dates), 'newCasesByPublishDate': predict_y})\n",
    "df_predict['date'] = pd.to_datetime(df_predict['date'])\n",
    "\n",
    "# Actual y for plotting\n",
    "original = df[['date', 'newCasesByPublishDate']]\n",
    "original['date'] = pd.to_datetime(original['date'])\n",
    "\n",
    "# Plot\n",
    "sns.lineplot(data=original, x=\"date\", y=\"newCasesByPublishDate\")\n",
    "sns.lineplot(data=df_train, x=\"date\", y=\"newCasesByPublishDate\", color='red')\n",
    "sns.lineplot(data=df_predict, x=\"date\", y=\"newCasesByPublishDate\", color='green')\n",
    "plt.legend(labels=['Actual', 'Train', 'Test'])\n",
    "plt.xlabel(\"Date\")\n",
    "plt.ylabel(\"Daily confirmed cases\")\n",
    "# changed the angle of datetimes\n",
    "plt.gcf().autofmt_xdate()\n"
   ]
  },
  {
   "cell_type": "code",
   "execution_count": 14,
   "metadata": {},
   "outputs": [
    {
     "name": "stdout",
     "output_type": "stream",
     "text": [
      "persistence test RMSE is 5770.614078241934\n"
     ]
    },
    {
     "data": {
      "image/png": "[encoded data removed]",
      "text/plain": [
       "<Figure size 432x288 with 1 Axes>"
      ]
     },
     "metadata": {
      "needs_background": "light"
     },
     "output_type": "display_data"
    }
   ],
   "source": [
    "# Persistence error correction on the test set\n",
    "resid = [test_y[i] - predict_y[i] for i in range(len(predict_y))]\n",
    "persistence_predictions = []\n",
    "for i in range(n_future):\n",
    "    persistence_predictions.append(predict_y[i])\n",
    "for i in range(len(predict_y) - n_future):\n",
    "    correct_y = predict_y[i + n_future] + resid[i]\n",
    "    persistence_predictions.append(correct_y)\n",
    "\n",
    "print(\"persistence test RMSE is\", mean_squared_error(test_y, persistence_predictions, squared=False))\n",
    "\n",
    "# Plot\n",
    "df_predict = pd.DataFrame({'date': np.array(test_dates), 'newCasesByPublishDate': persistence_predictions})\n",
    "df_predict['date'] = pd.to_datetime(df_predict['date'])\n",
    "original = pd.DataFrame({'date': np.array(test_dates), 'newCasesByPublishDate': test_y})\n",
    "original['date'] = pd.to_datetime(original['date'])\n",
    "sns.lineplot(data=original, x=\"date\", y=\"newCasesByPublishDate\")\n",
    "sns.lineplot(data=df_predict, x=\"date\", y=\"newCasesByPublishDate\")\n",
    "plt.legend(labels=['Actual cases', 'Predicted cases'])\n",
    "plt.xlabel(\"Date\")\n",
    "plt.ylabel(\"Daily confirmed cases\")\n",
    "plt.title(\"persistence error correction\")\n",
    "plt.gcf().autofmt_xdate()\n"
   ]
  },
  {
   "cell_type": "code",
   "execution_count": 15,
   "metadata": {},
   "outputs": [
    {
     "name": "stdout",
     "output_type": "stream",
     "text": [
      "autoregression test RMSE is 5646.569040524308\n"
     ]
    },
    {
     "data": {
      "image/png": "[encoded data removed]",
      "text/plain": [
       "<Figure size 432x288 with 1 Axes>"
      ]
     },
     "metadata": {
      "needs_background": "light"
     },
     "output_type": "display_data"
    }
   ],
   "source": [
    "# Autoregression error correction on the test set\n",
    "train_resid = [train_y[i] - model_y[i] for i in range(len(model_y))]\n",
    "model_reg = AutoReg(train_resid, lags=window, old_names=False)\n",
    "model_fit = model_reg.fit()\n",
    "coef = model_fit.params\n",
    "\n",
    "history = train_resid[len(train_resid) - window - n_future + 1:]\n",
    "reg_predictions = []\n",
    "for t in range(len(test_y)):\n",
    "    error = test_y[t] - predict_y[t]\n",
    "    length = len(history)\n",
    "    lag_error = [history[i] for i in range(length - window - n_future + 1, length - n_future + 1)]\n",
    "    pred_error = coef[0]\n",
    "    for d in range(window):\n",
    "        pred_error += coef[d + 1] * lag_error[window - d - 1]\n",
    "    correct_y = predict_y[t] + pred_error\n",
    "    reg_predictions.append(correct_y)\n",
    "    history.append(error)\n",
    "\n",
    "print(\"autoregression test RMSE is\", mean_squared_error(test_y, reg_predictions, squared=False))\n",
    "\n",
    "# Plot\n",
    "df_predict = pd.DataFrame({'date': np.array(test_dates), 'newCasesByPublishDate': reg_predictions})\n",
    "df_predict['date'] = pd.to_datetime(df_predict['date'])\n",
    "sns.lineplot(data=original, x=\"date\", y=\"newCasesByPublishDate\")\n",
    "sns.lineplot(data=df_predict, x=\"date\", y=\"newCasesByPublishDate\")\n",
    "plt.legend(labels=['Actual cases', 'Predicted cases'])\n",
    "plt.xlabel(\"Date\")\n",
    "plt.ylabel(\"Daily confirmed cases\")\n",
    "plt.title(\"autoregression error correction\")\n",
    "plt.gcf().autofmt_xdate()\n"
   ]
  },
  {
   "cell_type": "code",
   "execution_count": 16,
   "metadata": {},
   "outputs": [
    {
     "name": "stdout",
     "output_type": "stream",
     "text": [
      "test RMSE is 6444.083825097056\n",
      "test MAE is 4993.261416153169\n",
      "test r2 score is 0.8212296981341721\n"
     ]
    }
   ],
   "source": [
    "# Model by itself\n",
    "print(\"test RMSE is\", mean_squared_error(test_y, predict_y, squared=False))\n",
    "print(\"test MAE is\", mean_absolute_error(test_y, predict_y))\n",
    "print(\"test r2 score is\", r2_score(test_y, predict_y))"
   ]
  },
  {
   "cell_type": "code",
   "execution_count": 17,
   "metadata": {},
   "outputs": [
    {
     "name": "stdout",
     "output_type": "stream",
     "text": [
      "persistence correction RMSE is 5770.614078241934\n",
      "persistence correction MAE is 4162.109388754401\n",
      "persistence correction r2 score is 0.8566436043660898\n"
     ]
    }
   ],
   "source": [
    "# Persistence error correction\n",
    "print(\"persistence correction RMSE is\", mean_squared_error(test_y, persistence_predictions, squared=False))\n",
    "print(\"persistence correction MAE is\", mean_absolute_error(test_y, persistence_predictions))\n",
    "print(\"persistence correction r2 score is\", r2_score(test_y, persistence_predictions))"
   ]
  },
  {
   "cell_type": "code",
   "execution_count": 18,
   "metadata": {},
   "outputs": [
    {
     "name": "stdout",
     "output_type": "stream",
     "text": [
      "autoregression correction RMSE is 5646.569040524308\n",
      "autoregression correction MAE is 4162.651420587178\n",
      "autoregression correction r2 score is 0.8627405366770079\n"
     ]
    }
   ],
   "source": [
    "# Autoregression error correction\n",
    "print(\"autoregression correction RMSE is\", mean_squared_error(test_y, reg_predictions, squared=False))\n",
    "print(\"autoregression correction MAE is\", mean_absolute_error(test_y, reg_predictions))\n",
    "print(\"autoregression correction r2 score is\", r2_score(test_y, reg_predictions))"
   ]
  },
  {
   "cell_type": "markdown",
   "metadata": {},
   "source": [
    "##### "
   ]
  }
 ],
 "metadata": {
  "kernelspec": {
   "display_name": "Python 3",
   "language": "python",
   "name": "python3"
  },
  "language_info": {
   "codemirror_mode": {
    "name": "ipython",
    "version": 3
   },
   "file_extension": ".py",
   "mimetype": "text/x-python",
   "name": "python",
   "nbconvert_exporter": "python",
   "pygments_lexer": "ipython3",
   "version": "3.8.5"
  }
 },
 "nbformat": 4,
 "nbformat_minor": 4
}
