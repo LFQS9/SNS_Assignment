{
 "cells": [
  {
   "cell_type": "code",
   "execution_count": 1,
   "metadata": {},
   "outputs": [],
   "source": [
    "import numpy as np\n",
    "import pandas as pd\n",
    "import seaborn as sns\n",
    "from keras.models import Sequential\n",
    "from keras.layers.convolutional import Conv1D, MaxPooling1D\n",
    "from keras.layers import Flatten\n",
    "from keras.layers import Dense, Dropout\n",
    "from keras.callbacks import EarlyStopping, ReduceLROnPlateau, ModelCheckpoint, TensorBoard\n",
    "from matplotlib import pyplot as plt\n",
    "from sklearn.preprocessing import MinMaxScaler\n",
    "from sklearn.metrics import r2_score, mean_squared_error, mean_absolute_error\n",
    "from statsmodels.tsa.ar_model import AutoReg\n",
    "# Set seed for replayability\n",
    "from numpy.random import seed \n",
    "seed(1)\n",
    "import tensorflow as tf\n",
    "tf.random.set_seed(2)\n",
    "pd.options.mode.chained_assignment = None  # default='warn'\n"
   ]
  },
  {
   "cell_type": "markdown",
   "metadata": {},
   "source": [
    "# <span style='font-family:\"Times New Roman\"'> <span styel=''>Data pre-processing"
   ]
  },
  {
   "cell_type": "code",
   "execution_count": 2,
   "metadata": {},
   "outputs": [
    {
     "data": {
      "text/html": [
       "<div>\n",
       "<style scoped>\n",
       "    .dataframe tbody tr th:only-of-type {\n",
       "        vertical-align: middle;\n",
       "    }\n",
       "\n",
       "    .dataframe tbody tr th {\n",
       "        vertical-align: top;\n",
       "    }\n",
       "\n",
       "    .dataframe thead th {\n",
       "        text-align: right;\n",
       "    }\n",
       "</style>\n",
       "<table border=\"1\" class=\"dataframe\">\n",
       "  <thead>\n",
       "    <tr style=\"text-align: right;\">\n",
       "      <th></th>\n",
       "      <th>date</th>\n",
       "      <th>newCasesByPublishDate</th>\n",
       "      <th>newDeaths28DaysByPublishDate</th>\n",
       "      <th>newAdmissions</th>\n",
       "      <th>hospitalCases</th>\n",
       "      <th>covidOccupiedMVBeds</th>\n",
       "      <th>London</th>\n",
       "    </tr>\n",
       "  </thead>\n",
       "  <tbody>\n",
       "    <tr>\n",
       "      <th>0</th>\n",
       "      <td>2020-04-21</td>\n",
       "      <td>4301</td>\n",
       "      <td>1224</td>\n",
       "      <td>1713</td>\n",
       "      <td>19139</td>\n",
       "      <td>3036</td>\n",
       "      <td>0.09</td>\n",
       "    </tr>\n",
       "    <tr>\n",
       "      <th>1</th>\n",
       "      <td>2020-04-22</td>\n",
       "      <td>4451</td>\n",
       "      <td>847</td>\n",
       "      <td>1527</td>\n",
       "      <td>18533</td>\n",
       "      <td>2964</td>\n",
       "      <td>0.09</td>\n",
       "    </tr>\n",
       "    <tr>\n",
       "      <th>2</th>\n",
       "      <td>2020-04-23</td>\n",
       "      <td>4583</td>\n",
       "      <td>682</td>\n",
       "      <td>1513</td>\n",
       "      <td>17867</td>\n",
       "      <td>2867</td>\n",
       "      <td>0.09</td>\n",
       "    </tr>\n",
       "    <tr>\n",
       "      <th>3</th>\n",
       "      <td>2020-04-24</td>\n",
       "      <td>5386</td>\n",
       "      <td>1010</td>\n",
       "      <td>1525</td>\n",
       "      <td>17063</td>\n",
       "      <td>2703</td>\n",
       "      <td>0.09</td>\n",
       "    </tr>\n",
       "    <tr>\n",
       "      <th>4</th>\n",
       "      <td>2020-04-25</td>\n",
       "      <td>4913</td>\n",
       "      <td>815</td>\n",
       "      <td>1255</td>\n",
       "      <td>16604</td>\n",
       "      <td>2702</td>\n",
       "      <td>0.08</td>\n",
       "    </tr>\n",
       "    <tr>\n",
       "      <th>...</th>\n",
       "      <td>...</td>\n",
       "      <td>...</td>\n",
       "      <td>...</td>\n",
       "      <td>...</td>\n",
       "      <td>...</td>\n",
       "      <td>...</td>\n",
       "      <td>...</td>\n",
       "    </tr>\n",
       "    <tr>\n",
       "      <th>291</th>\n",
       "      <td>2021-02-06</td>\n",
       "      <td>18262</td>\n",
       "      <td>828</td>\n",
       "      <td>1880</td>\n",
       "      <td>26881</td>\n",
       "      <td>3373</td>\n",
       "      <td>0.21</td>\n",
       "    </tr>\n",
       "    <tr>\n",
       "      <th>292</th>\n",
       "      <td>2021-02-07</td>\n",
       "      <td>15845</td>\n",
       "      <td>373</td>\n",
       "      <td>1846</td>\n",
       "      <td>26767</td>\n",
       "      <td>3302</td>\n",
       "      <td>0.21</td>\n",
       "    </tr>\n",
       "    <tr>\n",
       "      <th>293</th>\n",
       "      <td>2021-02-08</td>\n",
       "      <td>14104</td>\n",
       "      <td>333</td>\n",
       "      <td>1909</td>\n",
       "      <td>26706</td>\n",
       "      <td>3230</td>\n",
       "      <td>0.24</td>\n",
       "    </tr>\n",
       "    <tr>\n",
       "      <th>294</th>\n",
       "      <td>2021-02-09</td>\n",
       "      <td>12364</td>\n",
       "      <td>1052</td>\n",
       "      <td>1743</td>\n",
       "      <td>25643</td>\n",
       "      <td>3164</td>\n",
       "      <td>0.22</td>\n",
       "    </tr>\n",
       "    <tr>\n",
       "      <th>295</th>\n",
       "      <td>2021-02-10</td>\n",
       "      <td>13013</td>\n",
       "      <td>1001</td>\n",
       "      <td>1715</td>\n",
       "      <td>24352</td>\n",
       "      <td>3132</td>\n",
       "      <td>0.22</td>\n",
       "    </tr>\n",
       "  </tbody>\n",
       "</table>\n",
       "<p>296 rows × 7 columns</p>\n",
       "</div>"
      ],
      "text/plain": [
       "           date  newCasesByPublishDate  newDeaths28DaysByPublishDate  \\\n",
       "0    2020-04-21                   4301                          1224   \n",
       "1    2020-04-22                   4451                           847   \n",
       "2    2020-04-23                   4583                           682   \n",
       "3    2020-04-24                   5386                          1010   \n",
       "4    2020-04-25                   4913                           815   \n",
       "..          ...                    ...                           ...   \n",
       "291  2021-02-06                  18262                           828   \n",
       "292  2021-02-07                  15845                           373   \n",
       "293  2021-02-08                  14104                           333   \n",
       "294  2021-02-09                  12364                          1052   \n",
       "295  2021-02-10                  13013                          1001   \n",
       "\n",
       "     newAdmissions  hospitalCases  covidOccupiedMVBeds  London  \n",
       "0             1713          19139                 3036    0.09  \n",
       "1             1527          18533                 2964    0.09  \n",
       "2             1513          17867                 2867    0.09  \n",
       "3             1525          17063                 2703    0.09  \n",
       "4             1255          16604                 2702    0.08  \n",
       "..             ...            ...                  ...     ...  \n",
       "291           1880          26881                 3373    0.21  \n",
       "292           1846          26767                 3302    0.21  \n",
       "293           1909          26706                 3230    0.24  \n",
       "294           1743          25643                 3164    0.22  \n",
       "295           1715          24352                 3132    0.22  \n",
       "\n",
       "[296 rows x 7 columns]"
      ]
     },
     "execution_count": 2,
     "metadata": {},
     "output_type": "execute_result"
    }
   ],
   "source": [
    "# Read data\n",
    "df = pd.read_csv('NewCases_Data/export_dataframe.csv')\n",
    "df\n"
   ]
  },
  {
   "cell_type": "code",
   "execution_count": 3,
   "metadata": {},
   "outputs": [
    {
     "data": {
      "text/html": [
       "<div>\n",
       "<style scoped>\n",
       "    .dataframe tbody tr th:only-of-type {\n",
       "        vertical-align: middle;\n",
       "    }\n",
       "\n",
       "    .dataframe tbody tr th {\n",
       "        vertical-align: top;\n",
       "    }\n",
       "\n",
       "    .dataframe thead th {\n",
       "        text-align: right;\n",
       "    }\n",
       "</style>\n",
       "<table border=\"1\" class=\"dataframe\">\n",
       "  <thead>\n",
       "    <tr style=\"text-align: right;\">\n",
       "      <th></th>\n",
       "      <th>date</th>\n",
       "      <th>newCasesByPublishDate</th>\n",
       "      <th>newDeaths28DaysByPublishDate</th>\n",
       "      <th>newAdmissions</th>\n",
       "      <th>hospitalCases</th>\n",
       "      <th>covidOccupiedMVBeds</th>\n",
       "      <th>London</th>\n",
       "    </tr>\n",
       "  </thead>\n",
       "  <tbody>\n",
       "    <tr>\n",
       "      <th>0</th>\n",
       "      <td>2020-04-21</td>\n",
       "      <td>4301</td>\n",
       "      <td>1224</td>\n",
       "      <td>1713</td>\n",
       "      <td>19139</td>\n",
       "      <td>3036</td>\n",
       "      <td>0.09</td>\n",
       "    </tr>\n",
       "    <tr>\n",
       "      <th>1</th>\n",
       "      <td>2020-04-22</td>\n",
       "      <td>4451</td>\n",
       "      <td>847</td>\n",
       "      <td>1527</td>\n",
       "      <td>18533</td>\n",
       "      <td>2964</td>\n",
       "      <td>0.09</td>\n",
       "    </tr>\n",
       "    <tr>\n",
       "      <th>2</th>\n",
       "      <td>2020-04-23</td>\n",
       "      <td>4583</td>\n",
       "      <td>682</td>\n",
       "      <td>1513</td>\n",
       "      <td>17867</td>\n",
       "      <td>2867</td>\n",
       "      <td>0.09</td>\n",
       "    </tr>\n",
       "    <tr>\n",
       "      <th>3</th>\n",
       "      <td>2020-04-24</td>\n",
       "      <td>5386</td>\n",
       "      <td>1010</td>\n",
       "      <td>1525</td>\n",
       "      <td>17063</td>\n",
       "      <td>2703</td>\n",
       "      <td>0.09</td>\n",
       "    </tr>\n",
       "    <tr>\n",
       "      <th>4</th>\n",
       "      <td>2020-04-25</td>\n",
       "      <td>4913</td>\n",
       "      <td>815</td>\n",
       "      <td>1255</td>\n",
       "      <td>16604</td>\n",
       "      <td>2702</td>\n",
       "      <td>0.08</td>\n",
       "    </tr>\n",
       "    <tr>\n",
       "      <th>...</th>\n",
       "      <td>...</td>\n",
       "      <td>...</td>\n",
       "      <td>...</td>\n",
       "      <td>...</td>\n",
       "      <td>...</td>\n",
       "      <td>...</td>\n",
       "      <td>...</td>\n",
       "    </tr>\n",
       "    <tr>\n",
       "      <th>291</th>\n",
       "      <td>2021-02-06</td>\n",
       "      <td>18262</td>\n",
       "      <td>828</td>\n",
       "      <td>1880</td>\n",
       "      <td>26881</td>\n",
       "      <td>3373</td>\n",
       "      <td>0.21</td>\n",
       "    </tr>\n",
       "    <tr>\n",
       "      <th>292</th>\n",
       "      <td>2021-02-07</td>\n",
       "      <td>15845</td>\n",
       "      <td>373</td>\n",
       "      <td>1846</td>\n",
       "      <td>26767</td>\n",
       "      <td>3302</td>\n",
       "      <td>0.21</td>\n",
       "    </tr>\n",
       "    <tr>\n",
       "      <th>293</th>\n",
       "      <td>2021-02-08</td>\n",
       "      <td>14104</td>\n",
       "      <td>333</td>\n",
       "      <td>1909</td>\n",
       "      <td>26706</td>\n",
       "      <td>3230</td>\n",
       "      <td>0.24</td>\n",
       "    </tr>\n",
       "    <tr>\n",
       "      <th>294</th>\n",
       "      <td>2021-02-09</td>\n",
       "      <td>12364</td>\n",
       "      <td>1052</td>\n",
       "      <td>1743</td>\n",
       "      <td>25643</td>\n",
       "      <td>3164</td>\n",
       "      <td>0.22</td>\n",
       "    </tr>\n",
       "    <tr>\n",
       "      <th>295</th>\n",
       "      <td>2021-02-10</td>\n",
       "      <td>13013</td>\n",
       "      <td>1001</td>\n",
       "      <td>1715</td>\n",
       "      <td>24352</td>\n",
       "      <td>3132</td>\n",
       "      <td>0.22</td>\n",
       "    </tr>\n",
       "  </tbody>\n",
       "</table>\n",
       "<p>296 rows × 7 columns</p>\n",
       "</div>"
      ],
      "text/plain": [
       "           date  newCasesByPublishDate  newDeaths28DaysByPublishDate  \\\n",
       "0    2020-04-21                   4301                          1224   \n",
       "1    2020-04-22                   4451                           847   \n",
       "2    2020-04-23                   4583                           682   \n",
       "3    2020-04-24                   5386                          1010   \n",
       "4    2020-04-25                   4913                           815   \n",
       "..          ...                    ...                           ...   \n",
       "291  2021-02-06                  18262                           828   \n",
       "292  2021-02-07                  15845                           373   \n",
       "293  2021-02-08                  14104                           333   \n",
       "294  2021-02-09                  12364                          1052   \n",
       "295  2021-02-10                  13013                          1001   \n",
       "\n",
       "     newAdmissions  hospitalCases  covidOccupiedMVBeds  London  \n",
       "0             1713          19139                 3036    0.09  \n",
       "1             1527          18533                 2964    0.09  \n",
       "2             1513          17867                 2867    0.09  \n",
       "3             1525          17063                 2703    0.09  \n",
       "4             1255          16604                 2702    0.08  \n",
       "..             ...            ...                  ...     ...  \n",
       "291           1880          26881                 3373    0.21  \n",
       "292           1846          26767                 3302    0.21  \n",
       "293           1909          26706                 3230    0.24  \n",
       "294           1743          25643                 3164    0.22  \n",
       "295           1715          24352                 3132    0.22  \n",
       "\n",
       "[296 rows x 7 columns]"
      ]
     },
     "execution_count": 3,
     "metadata": {},
     "output_type": "execute_result"
    }
   ],
   "source": [
    "df_data = df[['date','newCasesByPublishDate','newDeaths28DaysByPublishDate'\n",
    "             ,'newAdmissions','hospitalCases','covidOccupiedMVBeds','London']]\n",
    "df_data\n"
   ]
  },
  {
   "cell_type": "code",
   "execution_count": 4,
   "metadata": {},
   "outputs": [
    {
     "name": "stdout",
     "output_type": "stream",
     "text": [
      "train set: (222, 6)\n",
      "test set: (74, 6)\n"
     ]
    }
   ],
   "source": [
    "# Separate dates for future plotting\n",
    "all_dates = pd.to_datetime(df_data['date'])\n",
    "\n",
    "# Extract features\n",
    "n_features = 6  \n",
    "cols = list(df_data)[1:n_features + 1]\n",
    "data = df_data[cols].astype(float)\n",
    "\n",
    "# Split into the train set and the test set\n",
    "split = 0.75\n",
    "x = int(data.shape[0] * split)\n",
    "train_set, test_set = data[:x], data[x:]\n",
    "print(\"train set:\", train_set.shape)\n",
    "print(\"test set:\", test_set.shape)\n"
   ]
  },
  {
   "cell_type": "code",
   "execution_count": 5,
   "metadata": {},
   "outputs": [
    {
     "name": "stdout",
     "output_type": "stream",
     "text": [
      "scaled train set: (222, 6)\n",
      "scaled train set type: <class 'numpy.ndarray'>\n"
     ]
    }
   ],
   "source": [
    "# Number of days predicted into the future\n",
    "n_future = 1\n",
    "\n",
    "# Number of past days used as the input\n",
    "n_past = 4\n",
    "\n",
    "# Normalize the train set\n",
    "scaler = MinMaxScaler(feature_range=(-1, 1))\n",
    "scaler = scaler.fit(train_set)\n",
    "train_data_scaled = scaler.transform(train_set)\n",
    "\n",
    "# Inverse scaling function\n",
    "def inverse_scaling(data):\n",
    "    data_copies = np.repeat(data, train_set.shape[1], axis=-1)\n",
    "    data = scaler.inverse_transform(data_copies)[:, 0]\n",
    "    return data\n",
    "\n",
    "print(\"scaled train set:\", train_data_scaled.shape)\n",
    "print(\"scaled train set type:\", type(train_data_scaled))\n"
   ]
  },
  {
   "cell_type": "code",
   "execution_count": 6,
   "metadata": {},
   "outputs": [
    {
     "name": "stdout",
     "output_type": "stream",
     "text": [
      "train x: (218, 4, 6)\n",
      "train y: (218, 1)\n"
     ]
    }
   ],
   "source": [
    "# Reshape input and output\n",
    "train_X, train_Y = [], []\n",
    "\n",
    "for i in range(n_past, train_data_scaled.shape[0] - n_future + 1):\n",
    "    train_X.append(train_data_scaled[i - n_past:i, 0:train_data_scaled.shape[1]])\n",
    "    train_Y.append(train_data_scaled[i + n_future - 1:i + n_future, 0])\n",
    "\n",
    "train_x, train_y = np.array(train_X), np.array(train_Y)\n",
    "\n",
    "print(\"train x:\", train_x.shape)\n",
    "print(\"train y:\", train_y.shape)\n"
   ]
  },
  {
   "cell_type": "markdown",
   "metadata": {},
   "source": [
    "# <span style='font-family:\"Times New Roman\"'> <span styel=''>Model training"
   ]
  },
  {
   "cell_type": "code",
   "execution_count": 7,
   "metadata": {},
   "outputs": [
    {
     "name": "stdout",
     "output_type": "stream",
     "text": [
      "Epoch 1/100\n",
      "66/66 [==============================] - 0s 5ms/step - loss: 0.2747 - val_loss: 0.0570\n",
      "Epoch 2/100\n",
      "66/66 [==============================] - 0s 1ms/step - loss: 0.0879 - val_loss: 0.0902\n",
      "Epoch 3/100\n",
      "66/66 [==============================] - 0s 1ms/step - loss: 0.0556 - val_loss: 0.0879\n",
      "Epoch 4/100\n",
      "66/66 [==============================] - 0s 2ms/step - loss: 0.0563 - val_loss: 0.0518\n",
      "Epoch 5/100\n",
      "66/66 [==============================] - 0s 1ms/step - loss: 0.0528 - val_loss: 0.0543\n",
      "Epoch 6/100\n",
      "66/66 [==============================] - 0s 1ms/step - loss: 0.0393 - val_loss: 0.0477\n",
      "Epoch 7/100\n",
      "66/66 [==============================] - 0s 1ms/step - loss: 0.0368 - val_loss: 0.0491\n",
      "Epoch 8/100\n",
      "66/66 [==============================] - 0s 1ms/step - loss: 0.0382 - val_loss: 0.0435\n",
      "Epoch 9/100\n",
      "66/66 [==============================] - 0s 1ms/step - loss: 0.0378 - val_loss: 0.0440\n",
      "Epoch 10/100\n",
      "66/66 [==============================] - 0s 2ms/step - loss: 0.0318 - val_loss: 0.0447\n",
      "Epoch 11/100\n",
      "66/66 [==============================] - 0s 1ms/step - loss: 0.0330 - val_loss: 0.0437\n",
      "Epoch 12/100\n",
      "66/66 [==============================] - 0s 1ms/step - loss: 0.0300 - val_loss: 0.0452\n",
      "Epoch 13/100\n",
      "66/66 [==============================] - 0s 2ms/step - loss: 0.0260 - val_loss: 0.0476\n",
      "Epoch 14/100\n",
      "66/66 [==============================] - 0s 2ms/step - loss: 0.0313 - val_loss: 0.0423\n",
      "Epoch 15/100\n",
      "66/66 [==============================] - 0s 1ms/step - loss: 0.0235 - val_loss: 0.0419\n",
      "Epoch 16/100\n",
      "66/66 [==============================] - 0s 1ms/step - loss: 0.0307 - val_loss: 0.0413\n",
      "Epoch 17/100\n",
      "66/66 [==============================] - 0s 1ms/step - loss: 0.0252 - val_loss: 0.0439\n",
      "Epoch 18/100\n",
      "66/66 [==============================] - 0s 1ms/step - loss: 0.0272 - val_loss: 0.0402\n",
      "Epoch 19/100\n",
      "66/66 [==============================] - 0s 1ms/step - loss: 0.0221 - val_loss: 0.0400\n",
      "Epoch 20/100\n",
      "66/66 [==============================] - 0s 1ms/step - loss: 0.0250 - val_loss: 0.0399\n",
      "Epoch 21/100\n",
      "66/66 [==============================] - 0s 1ms/step - loss: 0.0254 - val_loss: 0.0412\n",
      "Epoch 22/100\n",
      "66/66 [==============================] - 0s 1ms/step - loss: 0.0207 - val_loss: 0.0406\n",
      "Epoch 23/100\n",
      "66/66 [==============================] - 0s 1ms/step - loss: 0.0230 - val_loss: 0.0397\n",
      "Epoch 24/100\n",
      "66/66 [==============================] - 0s 1ms/step - loss: 0.0240 - val_loss: 0.0397\n",
      "Epoch 25/100\n",
      "66/66 [==============================] - 0s 1ms/step - loss: 0.0245 - val_loss: 0.0431\n",
      "Epoch 26/100\n",
      "66/66 [==============================] - 0s 1ms/step - loss: 0.0198 - val_loss: 0.0399\n",
      "Epoch 27/100\n",
      "66/66 [==============================] - 0s 1ms/step - loss: 0.0201 - val_loss: 0.0443\n",
      "Epoch 28/100\n",
      "66/66 [==============================] - 0s 1ms/step - loss: 0.0218 - val_loss: 0.0401\n",
      "Epoch 29/100\n",
      "66/66 [==============================] - 0s 1ms/step - loss: 0.0224 - val_loss: 0.0466\n",
      "Epoch 30/100\n",
      "66/66 [==============================] - 0s 1ms/step - loss: 0.0197 - val_loss: 0.0383\n",
      "Epoch 31/100\n",
      "66/66 [==============================] - 0s 1ms/step - loss: 0.0190 - val_loss: 0.0392\n",
      "Epoch 32/100\n",
      "66/66 [==============================] - 0s 1ms/step - loss: 0.0196 - val_loss: 0.0450\n",
      "Epoch 33/100\n",
      "66/66 [==============================] - 0s 1ms/step - loss: 0.0166 - val_loss: 0.0399\n",
      "Epoch 34/100\n",
      "66/66 [==============================] - 0s 1ms/step - loss: 0.0191 - val_loss: 0.0383\n",
      "Epoch 35/100\n",
      "66/66 [==============================] - 0s 1ms/step - loss: 0.0214 - val_loss: 0.0389\n",
      "Epoch 36/100\n",
      "66/66 [==============================] - 0s 1ms/step - loss: 0.0237 - val_loss: 0.0384\n",
      "Epoch 37/100\n",
      "66/66 [==============================] - 0s 1ms/step - loss: 0.0179 - val_loss: 0.0374\n",
      "Epoch 38/100\n",
      "66/66 [==============================] - 0s 1ms/step - loss: 0.0204 - val_loss: 0.0381\n",
      "Epoch 39/100\n",
      "66/66 [==============================] - 0s 1ms/step - loss: 0.0180 - val_loss: 0.0392\n",
      "Epoch 40/100\n",
      "66/66 [==============================] - 0s 1ms/step - loss: 0.0187 - val_loss: 0.0389\n",
      "Epoch 41/100\n",
      "66/66 [==============================] - 0s 1ms/step - loss: 0.0158 - val_loss: 0.0379\n",
      "Epoch 42/100\n",
      "66/66 [==============================] - 0s 1ms/step - loss: 0.0182 - val_loss: 0.0391\n",
      "Epoch 43/100\n",
      "66/66 [==============================] - 0s 1ms/step - loss: 0.0191 - val_loss: 0.0459\n",
      "Epoch 44/100\n",
      "66/66 [==============================] - 0s 1ms/step - loss: 0.0175 - val_loss: 0.0355\n",
      "Epoch 45/100\n",
      "66/66 [==============================] - 0s 1ms/step - loss: 0.0170 - val_loss: 0.0372\n",
      "Epoch 46/100\n",
      "66/66 [==============================] - 0s 1ms/step - loss: 0.0187 - val_loss: 0.0362\n",
      "Epoch 47/100\n",
      "66/66 [==============================] - 0s 1ms/step - loss: 0.0160 - val_loss: 0.0404\n",
      "Epoch 48/100\n",
      "66/66 [==============================] - 0s 1ms/step - loss: 0.0149 - val_loss: 0.0409\n",
      "Epoch 49/100\n",
      "66/66 [==============================] - 0s 1ms/step - loss: 0.0178 - val_loss: 0.0372\n",
      "Epoch 50/100\n",
      "66/66 [==============================] - 0s 1ms/step - loss: 0.0174 - val_loss: 0.0363\n",
      "Epoch 51/100\n",
      "66/66 [==============================] - 0s 2ms/step - loss: 0.0179 - val_loss: 0.0354\n",
      "Epoch 52/100\n",
      "66/66 [==============================] - 0s 2ms/step - loss: 0.0152 - val_loss: 0.0422\n",
      "Epoch 53/100\n",
      "66/66 [==============================] - 0s 1ms/step - loss: 0.0176 - val_loss: 0.0442\n",
      "Epoch 54/100\n",
      "66/66 [==============================] - 0s 1ms/step - loss: 0.0165 - val_loss: 0.0350\n",
      "Epoch 55/100\n",
      "66/66 [==============================] - 0s 1ms/step - loss: 0.0183 - val_loss: 0.0334\n",
      "Epoch 56/100\n",
      "66/66 [==============================] - 0s 1ms/step - loss: 0.0156 - val_loss: 0.0331\n",
      "Epoch 57/100\n",
      "66/66 [==============================] - 0s 1ms/step - loss: 0.0163 - val_loss: 0.0374\n",
      "Epoch 58/100\n",
      "66/66 [==============================] - 0s 1ms/step - loss: 0.0161 - val_loss: 0.0349\n",
      "Epoch 59/100\n",
      "66/66 [==============================] - 0s 1ms/step - loss: 0.0150 - val_loss: 0.0424\n",
      "Epoch 60/100\n",
      "66/66 [==============================] - 0s 1ms/step - loss: 0.0154 - val_loss: 0.0348\n",
      "Epoch 61/100\n",
      "66/66 [==============================] - 0s 1ms/step - loss: 0.0149 - val_loss: 0.0381\n",
      "Epoch 62/100\n",
      "66/66 [==============================] - 0s 1ms/step - loss: 0.0160 - val_loss: 0.0337\n",
      "Epoch 63/100\n",
      "66/66 [==============================] - 0s 2ms/step - loss: 0.0161 - val_loss: 0.0340\n",
      "Epoch 64/100\n",
      "66/66 [==============================] - 0s 1ms/step - loss: 0.0148 - val_loss: 0.0341\n",
      "Epoch 65/100\n",
      "66/66 [==============================] - 0s 1ms/step - loss: 0.0144 - val_loss: 0.0491\n",
      "Epoch 66/100\n",
      "66/66 [==============================] - 0s 3ms/step - loss: 0.0136 - val_loss: 0.0367\n",
      "Epoch 67/100\n",
      "66/66 [==============================] - 0s 2ms/step - loss: 0.0127 - val_loss: 0.0368\n",
      "Epoch 68/100\n",
      "66/66 [==============================] - 0s 2ms/step - loss: 0.0130 - val_loss: 0.0361\n",
      "Epoch 69/100\n",
      "66/66 [==============================] - 0s 2ms/step - loss: 0.0127 - val_loss: 0.0361\n",
      "Epoch 70/100\n",
      "66/66 [==============================] - 0s 2ms/step - loss: 0.0145 - val_loss: 0.0367\n",
      "Epoch 71/100\n",
      "66/66 [==============================] - 0s 2ms/step - loss: 0.0130 - val_loss: 0.0375\n",
      "Epoch 72/100\n",
      "66/66 [==============================] - 0s 2ms/step - loss: 0.0134 - val_loss: 0.0380\n",
      "Epoch 73/100\n",
      "66/66 [==============================] - 0s 1ms/step - loss: 0.0132 - val_loss: 0.0369\n",
      "Epoch 74/100\n",
      "66/66 [==============================] - 0s 2ms/step - loss: 0.0121 - val_loss: 0.0371\n",
      "Epoch 75/100\n",
      "66/66 [==============================] - 0s 1ms/step - loss: 0.0139 - val_loss: 0.0365\n",
      "Epoch 76/100\n",
      "66/66 [==============================] - 0s 2ms/step - loss: 0.0135 - val_loss: 0.0357\n",
      "Epoch 77/100\n",
      "66/66 [==============================] - 0s 2ms/step - loss: 0.0113 - val_loss: 0.0358\n",
      "Epoch 78/100\n",
      "66/66 [==============================] - 0s 2ms/step - loss: 0.0149 - val_loss: 0.0358\n",
      "Epoch 79/100\n",
      "66/66 [==============================] - 0s 2ms/step - loss: 0.0136 - val_loss: 0.0359\n",
      "Epoch 80/100\n",
      "66/66 [==============================] - 0s 1ms/step - loss: 0.0107 - val_loss: 0.0359\n",
      "Epoch 81/100\n",
      "66/66 [==============================] - 0s 2ms/step - loss: 0.0139 - val_loss: 0.0358\n",
      "Epoch 82/100\n",
      "66/66 [==============================] - 0s 2ms/step - loss: 0.0131 - val_loss: 0.0357\n",
      "Epoch 83/100\n"
     ]
    },
    {
     "name": "stdout",
     "output_type": "stream",
     "text": [
      "66/66 [==============================] - 0s 2ms/step - loss: 0.0128 - val_loss: 0.0357\n",
      "Epoch 84/100\n",
      "66/66 [==============================] - 0s 2ms/step - loss: 0.0111 - val_loss: 0.0357\n",
      "Epoch 85/100\n",
      "66/66 [==============================] - 0s 2ms/step - loss: 0.0142 - val_loss: 0.0357\n",
      "Epoch 86/100\n",
      "66/66 [==============================] - 0s 1ms/step - loss: 0.0142 - val_loss: 0.0357\n",
      "Epoch 87/100\n",
      "66/66 [==============================] - 0s 1ms/step - loss: 0.0127 - val_loss: 0.0358\n",
      "Epoch 88/100\n",
      "66/66 [==============================] - 0s 1ms/step - loss: 0.0112 - val_loss: 0.0358\n",
      "Epoch 89/100\n",
      "66/66 [==============================] - 0s 1ms/step - loss: 0.0139 - val_loss: 0.0358\n",
      "Epoch 90/100\n",
      "66/66 [==============================] - 0s 1ms/step - loss: 0.0157 - val_loss: 0.0358\n",
      "Epoch 91/100\n",
      "66/66 [==============================] - 0s 2ms/step - loss: 0.0129 - val_loss: 0.0358\n",
      "Epoch 92/100\n",
      "66/66 [==============================] - 0s 1ms/step - loss: 0.0132 - val_loss: 0.0358\n",
      "Epoch 93/100\n",
      "66/66 [==============================] - 0s 1ms/step - loss: 0.0143 - val_loss: 0.0358\n",
      "Epoch 94/100\n",
      "66/66 [==============================] - 0s 2ms/step - loss: 0.0129 - val_loss: 0.0358\n",
      "Epoch 95/100\n",
      "66/66 [==============================] - 0s 1ms/step - loss: 0.0111 - val_loss: 0.0358\n",
      "Epoch 96/100\n",
      "66/66 [==============================] - 0s 1ms/step - loss: 0.0120 - val_loss: 0.0358\n",
      "Epoch 97/100\n",
      "66/66 [==============================] - 0s 1ms/step - loss: 0.0113 - val_loss: 0.0358\n",
      "Epoch 98/100\n",
      "66/66 [==============================] - 0s 1ms/step - loss: 0.0101 - val_loss: 0.0358\n",
      "Epoch 99/100\n",
      "66/66 [==============================] - 0s 1ms/step - loss: 0.0125 - val_loss: 0.0358\n",
      "Epoch 100/100\n",
      "66/66 [==============================] - 0s 1ms/step - loss: 0.0114 - val_loss: 0.0358\n"
     ]
    }
   ],
   "source": [
    "# CNN model\n",
    "model = Sequential()\n",
    "model.add(Conv1D(filters=64, kernel_size=3, activation='relu', padding='same', input_shape=(train_x.shape[1], train_x.shape[2])))\n",
    "model.add(MaxPooling1D(pool_size=2))\n",
    "model.add(Dropout(0.3))\n",
    "model.add(Flatten())\n",
    "model.add(Dropout(0.3))\n",
    "model.add(Dense(train_y.shape[1]))\n",
    "model.compile(optimizer='adam', loss='mse')\n",
    "\n",
    "# Training\n",
    "reduce_lr = ReduceLROnPlateau(monitor='val_loss', patience=10, mode='auto')\n",
    "history = model.fit(train_x, train_y, epochs=100, batch_size=n_past-1, validation_split=0.1, verbose=1, callbacks=[reduce_lr])\n"
   ]
  },
  {
   "cell_type": "code",
   "execution_count": 8,
   "metadata": {},
   "outputs": [
    {
     "data": {
      "image/png": "[encoded data removed]",
      "text/plain": [
       "<IPython.core.display.Image object>"
      ]
     },
     "execution_count": 8,
     "metadata": {},
     "output_type": "execute_result"
    }
   ],
   "source": [
    "# Plot model\n",
    "import os\n",
    "\n",
    "os.environ[\"PATH\"] += os.pathsep + 'd:\\anaconda3\\lib\\site-packages'\n",
    "from keras.utils.vis_utils import plot_model\n",
    "\n",
    "# plot_model(model, to_file='cnn_model.svg', dpi=None, show_shapes=False, show_layer_names=True)\n",
    "plot_model(model, to_file='cnn_model.png', show_shapes=False, show_layer_names=True)\n"
   ]
  },
  {
   "cell_type": "markdown",
   "metadata": {},
   "source": [
    "# <span style='font-family:\"Times New Roman\"'> <span styel=''>Model validation"
   ]
  },
  {
   "cell_type": "code",
   "execution_count": 9,
   "metadata": {},
   "outputs": [
    {
     "data": {
      "text/plain": [
       "Text(0.5, 1.0, 'model train vs validation loss')"
      ]
     },
     "execution_count": 9,
     "metadata": {},
     "output_type": "execute_result"
    },
    {
     "data": {
      "image/png": "[encoded data removed]",
      "text/plain": [
       "<Figure size 432x288 with 1 Axes>"
      ]
     },
     "metadata": {
      "needs_background": "light"
     },
     "output_type": "display_data"
    }
   ],
   "source": [
    "# Plot model train vs validation loss\n",
    "sns.lineplot(data=history.history['loss'])\n",
    "sns.lineplot(data=history.history['val_loss'])\n",
    "plt.legend(labels=['train', 'validation'])\n",
    "plt.ylabel('loss')\n",
    "plt.xlabel('epoch')\n",
    "plt.title(\"model train vs validation loss\")"
   ]
  },
  {
   "cell_type": "code",
   "execution_count": 10,
   "metadata": {},
   "outputs": [
    {
     "name": "stdout",
     "output_type": "stream",
     "text": [
      "1/1 [==============================] - 0s 997us/step - loss: 0.0358\n",
      "original validation RMSE is 3135.3048307126883\n",
      "persistence validation RMSE is 3511.705264021517\n",
      "autoregression validation RMSE is 2971.0777941517586\n"
     ]
    }
   ],
   "source": [
    "# Validation set\n",
    "val_x, val_y = train_x[int(-0.1 * len(train_x)) - 1:], train_y[int(-0.1 * len(train_x)) - 1:]\n",
    "results = model.evaluate(val_x, val_y)\n",
    "p_val_y = model.predict(val_x)\n",
    "val_y = inverse_scaling(val_y)\n",
    "p_val_y = inverse_scaling(p_val_y)\n",
    "\n",
    "# Persistence error correction on the validation set\n",
    "resid = [val_y[i] - p_val_y[i] for i in range(len(p_val_y))]\n",
    "persistence_predictions = []\n",
    "for i in range(n_future):\n",
    "    persistence_predictions.append(p_val_y[i])\n",
    "for i in range(len(p_val_y) - n_future):\n",
    "    correct_y = p_val_y[i + n_future] + resid[i]\n",
    "    persistence_predictions.append(correct_y)\n",
    "\n",
    "# Autoregression error correction on the validation set\n",
    "x, y = train_x[:int(-0.1 * len(train_x)) - 1], train_y[:int(-0.1 * len(train_x)) - 1]\n",
    "p_y = model.predict(x)\n",
    "y = inverse_scaling(y)\n",
    "p_y = inverse_scaling(p_y)\n",
    "\n",
    "# Residuals of the train set\n",
    "resid = [y[i] - p_y[i] for i in range(len(p_y))]\n",
    "window = 1\n",
    "model_reg = AutoReg(resid, lags=window, old_names=False)\n",
    "model_fit = model_reg.fit()\n",
    "coef = model_fit.params\n",
    "\n",
    "# Predict residual errors\n",
    "resid_history = resid[len(resid) - window - n_future + 1:]\n",
    "reg_predictions = []\n",
    "for t in range(len(val_y)):\n",
    "    error = val_y[t] - p_val_y[t]\n",
    "    length = len(resid_history)\n",
    "    lag_error = [resid_history[i] for i in range(length - window - n_future + 1, length - n_future + 1)]\n",
    "    pred_error = coef[0]\n",
    "    for d in range(window):\n",
    "        pred_error += coef[d + 1] * lag_error[window - d - 1]\n",
    "    correct_y = p_val_y[t] + pred_error\n",
    "    reg_predictions.append(correct_y)\n",
    "    resid_history.append(error)\n",
    "\n",
    "print(\"original validation RMSE is\", mean_squared_error(val_y, p_val_y, squared=False))\n",
    "print(\"persistence validation RMSE is\", mean_squared_error(val_y, persistence_predictions, squared=False))\n",
    "print(\"autoregression validation RMSE is\", mean_squared_error(val_y, reg_predictions, squared=False))\n"
   ]
  },
  {
   "cell_type": "code",
   "execution_count": 11,
   "metadata": {},
   "outputs": [
    {
     "data": {
      "text/plain": [
       "Text(0.5, 1.0, 'residual error correction')"
      ]
     },
     "execution_count": 11,
     "metadata": {},
     "output_type": "execute_result"
    },
    {
     "data": {
      "image/png": "[encoded data removed]",
      "text/plain": [
       "<Figure size 432x288 with 1 Axes>"
      ]
     },
     "metadata": {
      "needs_background": "light"
     },
     "output_type": "display_data"
    }
   ],
   "source": [
    "# Plot corrected validation performance\n",
    "sns.lineplot(data=val_y, linewidth = 4)\n",
    "sns.lineplot(data=p_val_y)\n",
    "sns.lineplot(data=reg_predictions)\n",
    "sns.lineplot(data=persistence_predictions)\n",
    "plt.legend(labels=['Actual cases', 'Original predictions','Autoregression model','Persistence model'])\n",
    "plt.title(\"residual error correction\")\n"
   ]
  },
  {
   "cell_type": "markdown",
   "metadata": {},
   "source": [
    "# <span style='font-family:\"Times New Roman\"'> <span styel=''>Model testing"
   ]
  },
  {
   "cell_type": "code",
   "execution_count": 12,
   "metadata": {},
   "outputs": [
    {
     "name": "stdout",
     "output_type": "stream",
     "text": [
      "test x: (70, 4, 6)\n",
      "test y: (70, 1)\n"
     ]
    }
   ],
   "source": [
    "# Reshape input and output\n",
    "test_data_scaled = scaler.transform(test_set)\n",
    "test_X, test_Y = [], []\n",
    "\n",
    "for i in range(n_past, test_data_scaled.shape[0] - n_future + 1):\n",
    "    test_X.append(test_data_scaled[i - n_past:i, 0:test_data_scaled.shape[1]])\n",
    "    test_Y.append(test_data_scaled[i + n_future - 1:i + n_future, 0])\n",
    "\n",
    "test_x, test_y = np.array(test_X), np.array(test_Y)\n",
    "\n",
    "print(\"test x:\", test_x.shape)\n",
    "print(\"test y:\", test_y.shape)\n"
   ]
  },
  {
   "cell_type": "code",
   "execution_count": 13,
   "metadata": {
    "scrolled": false
   },
   "outputs": [
    {
     "name": "stdout",
     "output_type": "stream",
     "text": [
      "3/3 [==============================] - 0s 1ms/step - loss: 0.0980\n"
     ]
    },
    {
     "data": {
      "image/png": "[encoded data removed]",
      "text/plain": [
       "<Figure size 432x288 with 1 Axes>"
      ]
     },
     "metadata": {
      "needs_background": "light"
     },
     "output_type": "display_data"
    }
   ],
   "source": [
    "results = model.evaluate(test_x, test_y)\n",
    "predict_y = model.predict(test_x)\n",
    "model_y = model.predict(train_x)\n",
    "\n",
    "model_y = inverse_scaling(model_y)\n",
    "predict_y = inverse_scaling(predict_y)\n",
    "test_y = inverse_scaling(test_y)\n",
    "train_y = inverse_scaling(train_y)\n",
    "\n",
    "# Model y for plotting\n",
    "train_dates = all_dates[n_past + n_future - 1:n_past + n_future - 1 + train_y.shape[0]]\n",
    "df_train = pd.DataFrame({'date': np.array(train_dates), 'newCasesByPublishDate': model_y})\n",
    "df_train['date'] = pd.to_datetime(df_train['date'])\n",
    "\n",
    "# Predict y for plotting\n",
    "test_dates = all_dates.tail(predict_y.shape[0])\n",
    "df_predict = pd.DataFrame({'date': np.array(test_dates), 'newCasesByPublishDate': predict_y})\n",
    "df_predict['date'] = pd.to_datetime(df_predict['date'])\n",
    "\n",
    "# Actual y for plotting\n",
    "original = df[['date', 'newCasesByPublishDate']]\n",
    "original['date'] = pd.to_datetime(original['date'])\n",
    "\n",
    "# Plot\n",
    "sns.lineplot(data=original, x=\"date\", y=\"newCasesByPublishDate\")\n",
    "sns.lineplot(data=df_train, x=\"date\", y=\"newCasesByPublishDate\", color='red')\n",
    "sns.lineplot(data=df_predict, x=\"date\", y=\"newCasesByPublishDate\", color='green')\n",
    "plt.legend(labels=['Actual', 'Train', 'Test'])\n",
    "plt.xlabel(\"Date\")\n",
    "plt.ylabel(\"Daily confirmed cases\")\n",
    "# changed the angle of datetimes\n",
    "plt.gcf().autofmt_xdate()\n"
   ]
  },
  {
   "cell_type": "code",
   "execution_count": 14,
   "metadata": {},
   "outputs": [
    {
     "name": "stdout",
     "output_type": "stream",
     "text": [
      "persistence test RMSE is 5060.9316746176855\n"
     ]
    },
    {
     "data": {
      "image/png": "[encoded data removed]",
      "text/plain": [
       "<Figure size 432x288 with 1 Axes>"
      ]
     },
     "metadata": {
      "needs_background": "light"
     },
     "output_type": "display_data"
    }
   ],
   "source": [
    "# Persistence error correction on the test set\n",
    "resid = [test_y[i] - predict_y[i] for i in range(len(predict_y))]\n",
    "persistence_predictions = []\n",
    "for i in range(n_future):\n",
    "    persistence_predictions.append(predict_y[i])\n",
    "for i in range(len(predict_y) - n_future):\n",
    "    correct_y = predict_y[i + n_future] + resid[i]\n",
    "    persistence_predictions.append(correct_y)\n",
    "\n",
    "print(\"persistence test RMSE is\", mean_squared_error(test_y, persistence_predictions, squared=False))\n",
    "\n",
    "# Plot\n",
    "df_predict = pd.DataFrame({'date': np.array(test_dates), 'newCasesByPublishDate': persistence_predictions})\n",
    "df_predict['date'] = pd.to_datetime(df_predict['date'])\n",
    "original = pd.DataFrame({'date': np.array(test_dates), 'newCasesByPublishDate': test_y})\n",
    "original['date'] = pd.to_datetime(original['date'])\n",
    "sns.lineplot(data=original, x=\"date\", y=\"newCasesByPublishDate\")\n",
    "sns.lineplot(data=df_predict, x=\"date\", y=\"newCasesByPublishDate\")\n",
    "plt.legend(labels=['Actual cases', 'Predicted cases'])\n",
    "plt.xlabel(\"Date\")\n",
    "plt.ylabel(\"Daily confirmed cases\")\n",
    "plt.title(\"persistence error correction\")\n",
    "plt.gcf().autofmt_xdate()\n"
   ]
  },
  {
   "cell_type": "code",
   "execution_count": 15,
   "metadata": {},
   "outputs": [
    {
     "name": "stdout",
     "output_type": "stream",
     "text": [
      "autoregression test RMSE is 4576.071565697922\n"
     ]
    },
    {
     "data": {
      "image/png": "[encoded data removed]",
      "text/plain": [
       "<Figure size 432x288 with 1 Axes>"
      ]
     },
     "metadata": {
      "needs_background": "light"
     },
     "output_type": "display_data"
    }
   ],
   "source": [
    "# Autoregression error correction on the test set\n",
    "train_resid = [train_y[i] - model_y[i] for i in range(len(model_y))]\n",
    "model_reg = AutoReg(train_resid, lags=window, old_names=False)\n",
    "model_fit = model_reg.fit()\n",
    "coef = model_fit.params\n",
    "\n",
    "history = train_resid[len(train_resid) - window - n_future + 1:]\n",
    "reg_predictions = []\n",
    "for t in range(len(test_y)):\n",
    "    error = test_y[t] - predict_y[t]\n",
    "    length = len(history)\n",
    "    lag_error = [history[i] for i in range(length - window - n_future + 1, length - n_future + 1)]\n",
    "    pred_error = coef[0]\n",
    "    for d in range(window):\n",
    "        pred_error += coef[d + 1] * lag_error[window - d - 1]\n",
    "    correct_y = predict_y[t] + pred_error\n",
    "    reg_predictions.append(correct_y)\n",
    "    history.append(error)\n",
    "\n",
    "print(\"autoregression test RMSE is\", mean_squared_error(test_y, reg_predictions, squared=False))\n",
    "\n",
    "# Plot\n",
    "df_predict = pd.DataFrame({'date': np.array(test_dates), 'newCasesByPublishDate': reg_predictions})\n",
    "df_predict['date'] = pd.to_datetime(df_predict['date'])\n",
    "sns.lineplot(data=original, x=\"date\", y=\"newCasesByPublishDate\")\n",
    "sns.lineplot(data=df_predict, x=\"date\", y=\"newCasesByPublishDate\")\n",
    "plt.legend(labels=['Actual cases', 'Predicted cases'])\n",
    "plt.xlabel(\"Date\")\n",
    "plt.ylabel(\"Daily confirmed cases\")\n",
    "plt.title(\"autoregression error correction\")\n",
    "plt.gcf().autofmt_xdate()\n"
   ]
  },
  {
   "cell_type": "code",
   "execution_count": 16,
   "metadata": {},
   "outputs": [
    {
     "name": "stdout",
     "output_type": "stream",
     "text": [
      "test RMSE is 5185.077676324026\n",
      "test MAE is 4084.3351143973214\n",
      "test r2 score is 0.8838702597739864\n"
     ]
    }
   ],
   "source": [
    "# Model by itself\n",
    "print(\"test RMSE is\", mean_squared_error(test_y, predict_y, squared=False))\n",
    "print(\"test MAE is\", mean_absolute_error(test_y, predict_y))\n",
    "print(\"test r2 score is\", r2_score(test_y, predict_y))"
   ]
  },
  {
   "cell_type": "code",
   "execution_count": 17,
   "metadata": {},
   "outputs": [
    {
     "name": "stdout",
     "output_type": "stream",
     "text": [
      "persistence correction RMSE is 5060.9316746176855\n",
      "persistence correction MAE is 3759.0563058035714\n",
      "persistence correction r2 score is 0.8893646614486864\n"
     ]
    }
   ],
   "source": [
    "# Persistence error correction\n",
    "print(\"persistence correction RMSE is\", mean_squared_error(test_y, persistence_predictions, squared=False))\n",
    "print(\"persistence correction MAE is\", mean_absolute_error(test_y, persistence_predictions))\n",
    "print(\"persistence correction r2 score is\", r2_score(test_y, persistence_predictions))"
   ]
  },
  {
   "cell_type": "code",
   "execution_count": 18,
   "metadata": {},
   "outputs": [
    {
     "name": "stdout",
     "output_type": "stream",
     "text": [
      "autoregression correction RMSE is 4576.071565697922\n",
      "autoregression correction MAE is 3545.871851731144\n",
      "autoregression correction r2 score is 0.9095479245070588\n"
     ]
    }
   ],
   "source": [
    "# Autoregression error correction\n",
    "print(\"autoregression correction RMSE is\", mean_squared_error(test_y, reg_predictions, squared=False))\n",
    "print(\"autoregression correction MAE is\", mean_absolute_error(test_y, reg_predictions))\n",
    "print(\"autoregression correction r2 score is\", r2_score(test_y, reg_predictions))"
   ]
  },
  {
   "cell_type": "markdown",
   "metadata": {},
   "source": [
    "##### "
   ]
  }
 ],
 "metadata": {
  "kernelspec": {
   "display_name": "Python 3",
   "language": "python",
   "name": "python3"
  },
  "language_info": {
   "codemirror_mode": {
    "name": "ipython",
    "version": 3
   },
   "file_extension": ".py",
   "mimetype": "text/x-python",
   "name": "python",
   "nbconvert_exporter": "python",
   "pygments_lexer": "ipython3",
   "version": "3.8.5"
  }
 },
 "nbformat": 4,
 "nbformat_minor": 4
}
